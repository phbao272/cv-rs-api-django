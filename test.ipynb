{
 "cells": [
  {
   "cell_type": "code",
   "execution_count": 200,
   "metadata": {},
   "outputs": [],
   "source": [
    "from sklearn.feature_extraction.text import TfidfTransformer\n",
    "from sklearn.feature_extraction.text import CountVectorizer\n",
    "from sklearn.feature_extraction.text import TfidfTransformer\n",
    "from sklearn.metrics.pairwise import cosine_similarity\n"
   ]
  },
  {
   "cell_type": "code",
   "execution_count": 201,
   "metadata": {},
   "outputs": [],
   "source": [
    "# resume_skill = \"Django_6, Java_10\"\n",
    "# resume_skill = \"id_1, id_45, id_49, id_43\"\n",
    "# job_skill = \"id_6, id_5, id_20\"\n",
    "\n",
    "resume_skill = [\"skill_id_1\", \"skill_id_3\", \"skill_id_5\", \"skill_id_6\"]\n",
    "\n",
    "job_skill_1 = [\"skill_id_1\", \"skill_id_3\", \"skill_id_5\", \"skill_id_7\", \"skill_id_17\"]\n",
    "job_skill_2 = [\"skill_id_1\", \"skill_id_3\"]\n",
    "\n"
   ]
  },
  {
   "cell_type": "code",
   "execution_count": 202,
   "metadata": {},
   "outputs": [],
   "source": [
    "# documents = [resume_skill, job_skill_1]\n",
    "\n",
    "# print(documents)\n",
    "\n",
    "def convertSkillToText(skills: list):\n",
    "    text = \"\"\n",
    "    for skill in skills:\n",
    "        text += skill + \" \"\n",
    "    return text"
   ]
  },
  {
   "cell_type": "code",
   "execution_count": 203,
   "metadata": {},
   "outputs": [],
   "source": [
    "jobs = [job_skill_1, job_skill_2]"
   ]
  },
  {
   "cell_type": "code",
   "execution_count": 204,
   "metadata": {},
   "outputs": [],
   "source": [
    "\n",
    "# Create a CountVectorizer object and fit it to the documents\n",
    "def get_simi(resume,  job):\n",
    "    doc = [convertSkillToText(resume), convertSkillToText(job)]\n",
    "    print(doc)\n",
    "\n",
    "    count_vectorizer = CountVectorizer(stop_words=None)\n",
    "    count_matrix = count_vectorizer.fit_transform(doc)\n",
    "\n",
    "    # Create a TfidfTransformer object and fit it to the count matrix\n",
    "    tfidf_transformer = TfidfTransformer()\n",
    "    tfidf_matrix = tfidf_transformer.fit_transform(count_matrix)\n",
    "\n",
    "    # print(tfidf_matrix)\n",
    "\n",
    "    # Calculate the cosine similarity between the two documents\n",
    "    cosine_sim = cosine_similarity(tfidf_matrix[0], tfidf_matrix[1])[0][0]\n",
    "\n",
    "    # Print the similarity score\n",
    "    print(\"The similarity score between the two lists of skills is:\", cosine_sim)"
   ]
  },
  {
   "cell_type": "code",
   "execution_count": 205,
   "metadata": {},
   "outputs": [
    {
     "name": "stdout",
     "output_type": "stream",
     "text": [
      "['skill_id_1 skill_id_3 skill_id_5 ', 'skill_id_1 skill_id_3 skill_id_5 skill_id_7 skill_id_17 ']\n",
      "The similarity score between the two lists of skills is: 0.6569729210330907\n",
      "['skill_id_1 skill_id_3 ', 'skill_id_1 skill_id_3 ']\n",
      "The similarity score between the two lists of skills is: 1.0000000000000002\n"
     ]
    }
   ],
   "source": [
    "# print(count_vectorizer.get_feature_names_out())\n",
    "\n",
    "# print(cosine_similarity(tfidf_matrix[0], tfidf_matrix[1]))\n",
    "\n",
    "\n",
    "# feature_names = count_vectorizer.vocabulary_\n",
    "\n",
    "# print(feature_names)\n",
    "\n",
    "# print(count_matrix)\n",
    "\n",
    "for job in jobs:\n",
    "    filter_resume = list(filter(lambda x: x in job, resume_skill))\n",
    "\n",
    "    # print(filter_resume)\n",
    "\n",
    "\n",
    "    get_simi(filter_resume, job)"
   ]
  }
 ],
 "metadata": {
  "kernelspec": {
   "display_name": "Python 3",
   "language": "python",
   "name": "python3"
  },
  "language_info": {
   "codemirror_mode": {
    "name": "ipython",
    "version": 3
   },
   "file_extension": ".py",
   "mimetype": "text/x-python",
   "name": "python",
   "nbconvert_exporter": "python",
   "pygments_lexer": "ipython3",
   "version": "3.10.6 (main, Mar 10 2023, 10:55:28) [GCC 11.3.0]"
  },
  "orig_nbformat": 4,
  "vscode": {
   "interpreter": {
    "hash": "916dbcbb3f70747c44a77c7bcd40155683ae19c65e1c03b4aa3499c5328201f1"
   }
  }
 },
 "nbformat": 4,
 "nbformat_minor": 2
}
